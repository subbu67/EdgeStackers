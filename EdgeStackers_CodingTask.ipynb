{
 "cells": [
  {
   "cell_type": "code",
   "execution_count": 28,
   "metadata": {},
   "outputs": [],
   "source": [
    "import json\n",
    "import pandas as pd"
   ]
  },
  {
   "cell_type": "code",
   "execution_count": 78,
   "metadata": {},
   "outputs": [
    {
     "data": {
      "text/html": [
       "<div>\n",
       "<style scoped>\n",
       "    .dataframe tbody tr th:only-of-type {\n",
       "        vertical-align: middle;\n",
       "    }\n",
       "\n",
       "    .dataframe tbody tr th {\n",
       "        vertical-align: top;\n",
       "    }\n",
       "\n",
       "    .dataframe thead th {\n",
       "        text-align: right;\n",
       "    }\n",
       "</style>\n",
       "<table border=\"1\" class=\"dataframe\">\n",
       "  <thead>\n",
       "    <tr style=\"text-align: right;\">\n",
       "      <th></th>\n",
       "      <th>dates</th>\n",
       "    </tr>\n",
       "  </thead>\n",
       "  <tbody>\n",
       "    <tr>\n",
       "      <th>0</th>\n",
       "      <td>{'meetingDate': 1629901800, 'sections': [{'dis...</td>\n",
       "    </tr>\n",
       "  </tbody>\n",
       "</table>\n",
       "</div>"
      ],
      "text/plain": [
       "                                               dates\n",
       "0  {'meetingDate': 1629901800, 'sections': [{'dis..."
      ]
     },
     "execution_count": 78,
     "metadata": {},
     "output_type": "execute_result"
    }
   ],
   "source": [
    "df = pd.read_json(\"response.json\", encoding='utf-8')\n",
    "df"
   ]
  },
  {
   "cell_type": "code",
   "execution_count": 79,
   "metadata": {},
   "outputs": [
    {
     "data": {
      "text/html": [
       "<div>\n",
       "<style scoped>\n",
       "    .dataframe tbody tr th:only-of-type {\n",
       "        vertical-align: middle;\n",
       "    }\n",
       "\n",
       "    .dataframe tbody tr th {\n",
       "        vertical-align: top;\n",
       "    }\n",
       "\n",
       "    .dataframe thead th {\n",
       "        text-align: right;\n",
       "    }\n",
       "</style>\n",
       "<table border=\"1\" class=\"dataframe\">\n",
       "  <thead>\n",
       "    <tr style=\"text-align: right;\">\n",
       "      <th></th>\n",
       "      <th>meetingDate</th>\n",
       "      <th>sections</th>\n",
       "    </tr>\n",
       "  </thead>\n",
       "  <tbody>\n",
       "    <tr>\n",
       "      <th>0</th>\n",
       "      <td>1629901800</td>\n",
       "      <td>[{'displayName': 'Horses', 'displayOrder': 100...</td>\n",
       "    </tr>\n",
       "  </tbody>\n",
       "</table>\n",
       "</div>"
      ],
      "text/plain": [
       "   meetingDate                                           sections\n",
       "0   1629901800  [{'displayName': 'Horses', 'displayOrder': 100..."
      ]
     },
     "execution_count": 79,
     "metadata": {},
     "output_type": "execute_result"
    }
   ],
   "source": [
    "dates = df['dates'].apply(pd.Series)\n",
    "dates"
   ]
  },
  {
   "cell_type": "code",
   "execution_count": 80,
   "metadata": {},
   "outputs": [],
   "source": [
    "# Converting dict column to series\n",
    "\n",
    "dates = pd.concat([dates['sections'].apply(pd.Series), dates.drop(['sections','meetingDate'],axis = 1)],axis = 1)\n"
   ]
  },
  {
   "cell_type": "code",
   "execution_count": 81,
   "metadata": {},
   "outputs": [
    {
     "data": {
      "text/plain": [
       "0    {'displayName': 'Horses', 'displayOrder': 100,...\n",
       "Name: 0, dtype: object"
      ]
     },
     "execution_count": 81,
     "metadata": {},
     "output_type": "execute_result"
    }
   ],
   "source": [
    "dates[0]"
   ]
  },
  {
   "cell_type": "code",
   "execution_count": 104,
   "metadata": {},
   "outputs": [
    {
     "data": {
      "text/html": [
       "<div>\n",
       "<style scoped>\n",
       "    .dataframe tbody tr th:only-of-type {\n",
       "        vertical-align: middle;\n",
       "    }\n",
       "\n",
       "    .dataframe tbody tr th {\n",
       "        vertical-align: top;\n",
       "    }\n",
       "\n",
       "    .dataframe thead th {\n",
       "        text-align: right;\n",
       "    }\n",
       "</style>\n",
       "<table border=\"1\" class=\"dataframe\">\n",
       "  <thead>\n",
       "    <tr style=\"text-align: right;\">\n",
       "      <th></th>\n",
       "      <th>id</th>\n",
       "      <th>name</th>\n",
       "      <th>classId</th>\n",
       "      <th>isInternational</th>\n",
       "      <th>className</th>\n",
       "      <th>regionName</th>\n",
       "      <th>streamingAvailable</th>\n",
       "      <th>availableStreamingType</th>\n",
       "      <th>mbsAvailable</th>\n",
       "      <th>events</th>\n",
       "      <th>pools</th>\n",
       "      <th>streaming.liveStream.provider</th>\n",
       "      <th>streaming.replay.provider</th>\n",
       "      <th>streaming</th>\n",
       "      <th>displayName</th>\n",
       "      <th>displayOrder</th>\n",
       "      <th>raceType</th>\n",
       "    </tr>\n",
       "  </thead>\n",
       "  <tbody>\n",
       "    <tr>\n",
       "      <th>0</th>\n",
       "      <td>336</td>\n",
       "      <td>Echuca</td>\n",
       "      <td>1</td>\n",
       "      <td>False</td>\n",
       "      <td>Horses - Aus/NZ</td>\n",
       "      <td>Australia</td>\n",
       "      <td>True</td>\n",
       "      <td>tvn</td>\n",
       "      <td>False</td>\n",
       "      <td>[{'id': 6040123, 'raceNumber': 1, 'startTime':...</td>\n",
       "      <td>[{'id': 5285885, 'poolType': 'TBL', 'eventIds'...</td>\n",
       "      <td>sky</td>\n",
       "      <td>rvic</td>\n",
       "      <td>NaN</td>\n",
       "      <td>Horses</td>\n",
       "      <td>100</td>\n",
       "      <td>horse</td>\n",
       "    </tr>\n",
       "    <tr>\n",
       "      <th>1</th>\n",
       "      <td>651</td>\n",
       "      <td>Wagga</td>\n",
       "      <td>1</td>\n",
       "      <td>False</td>\n",
       "      <td>Horses - Aus/NZ</td>\n",
       "      <td>Australia</td>\n",
       "      <td>False</td>\n",
       "      <td>None</td>\n",
       "      <td>False</td>\n",
       "      <td>[{'id': 6040085, 'raceNumber': 1, 'startTime':...</td>\n",
       "      <td>[{'id': 5285920, 'poolType': 'TBL', 'eventIds'...</td>\n",
       "      <td>sky</td>\n",
       "      <td>NaN</td>\n",
       "      <td>NaN</td>\n",
       "      <td>Horses</td>\n",
       "      <td>100</td>\n",
       "      <td>horse</td>\n",
       "    </tr>\n",
       "    <tr>\n",
       "      <th>2</th>\n",
       "      <td>458</td>\n",
       "      <td>Mackay</td>\n",
       "      <td>1</td>\n",
       "      <td>False</td>\n",
       "      <td>Horses - Aus/NZ</td>\n",
       "      <td>Australia</td>\n",
       "      <td>False</td>\n",
       "      <td>None</td>\n",
       "      <td>False</td>\n",
       "      <td>[{'id': 6040141, 'raceNumber': 1, 'startTime':...</td>\n",
       "      <td>[{'id': 5285898, 'poolType': 'TBL', 'eventIds'...</td>\n",
       "      <td>sky</td>\n",
       "      <td>NaN</td>\n",
       "      <td>NaN</td>\n",
       "      <td>Horses</td>\n",
       "      <td>100</td>\n",
       "      <td>horse</td>\n",
       "    </tr>\n",
       "    <tr>\n",
       "      <th>3</th>\n",
       "      <td>526</td>\n",
       "      <td>Northam</td>\n",
       "      <td>1</td>\n",
       "      <td>False</td>\n",
       "      <td>Horses - Aus/NZ</td>\n",
       "      <td>Australia</td>\n",
       "      <td>False</td>\n",
       "      <td>None</td>\n",
       "      <td>False</td>\n",
       "      <td>[{'id': 6038522, 'raceNumber': 1, 'startTime':...</td>\n",
       "      <td>[{'id': 5285910, 'poolType': 'TBL', 'eventIds'...</td>\n",
       "      <td>sky</td>\n",
       "      <td>NaN</td>\n",
       "      <td>NaN</td>\n",
       "      <td>Horses</td>\n",
       "      <td>100</td>\n",
       "      <td>horse</td>\n",
       "    </tr>\n",
       "    <tr>\n",
       "      <th>4</th>\n",
       "      <td>3841</td>\n",
       "      <td>Bellewstown</td>\n",
       "      <td>2</td>\n",
       "      <td>True</td>\n",
       "      <td>Horses - International</td>\n",
       "      <td>Ireland</td>\n",
       "      <td>False</td>\n",
       "      <td>None</td>\n",
       "      <td>False</td>\n",
       "      <td>[{'id': 6039192, 'raceNumber': 1, 'startTime':...</td>\n",
       "      <td>[]</td>\n",
       "      <td>NaN</td>\n",
       "      <td>NaN</td>\n",
       "      <td>NaN</td>\n",
       "      <td>Horses</td>\n",
       "      <td>100</td>\n",
       "      <td>horse</td>\n",
       "    </tr>\n",
       "  </tbody>\n",
       "</table>\n",
       "</div>"
      ],
      "text/plain": [
       "     id         name  classId  isInternational               className  \\\n",
       "0   336       Echuca        1            False         Horses - Aus/NZ   \n",
       "1   651        Wagga        1            False         Horses - Aus/NZ   \n",
       "2   458       Mackay        1            False         Horses - Aus/NZ   \n",
       "3   526      Northam        1            False         Horses - Aus/NZ   \n",
       "4  3841  Bellewstown        2             True  Horses - International   \n",
       "\n",
       "  regionName  streamingAvailable availableStreamingType  mbsAvailable  \\\n",
       "0  Australia                True                    tvn         False   \n",
       "1  Australia               False                   None         False   \n",
       "2  Australia               False                   None         False   \n",
       "3  Australia               False                   None         False   \n",
       "4    Ireland               False                   None         False   \n",
       "\n",
       "                                              events  \\\n",
       "0  [{'id': 6040123, 'raceNumber': 1, 'startTime':...   \n",
       "1  [{'id': 6040085, 'raceNumber': 1, 'startTime':...   \n",
       "2  [{'id': 6040141, 'raceNumber': 1, 'startTime':...   \n",
       "3  [{'id': 6038522, 'raceNumber': 1, 'startTime':...   \n",
       "4  [{'id': 6039192, 'raceNumber': 1, 'startTime':...   \n",
       "\n",
       "                                               pools  \\\n",
       "0  [{'id': 5285885, 'poolType': 'TBL', 'eventIds'...   \n",
       "1  [{'id': 5285920, 'poolType': 'TBL', 'eventIds'...   \n",
       "2  [{'id': 5285898, 'poolType': 'TBL', 'eventIds'...   \n",
       "3  [{'id': 5285910, 'poolType': 'TBL', 'eventIds'...   \n",
       "4                                                 []   \n",
       "\n",
       "  streaming.liveStream.provider streaming.replay.provider  streaming  \\\n",
       "0                           sky                      rvic        NaN   \n",
       "1                           sky                       NaN        NaN   \n",
       "2                           sky                       NaN        NaN   \n",
       "3                           sky                       NaN        NaN   \n",
       "4                           NaN                       NaN        NaN   \n",
       "\n",
       "  displayName displayOrder raceType  \n",
       "0      Horses          100    horse  \n",
       "1      Horses          100    horse  \n",
       "2      Horses          100    horse  \n",
       "3      Horses          100    horse  \n",
       "4      Horses          100    horse  "
      ]
     },
     "execution_count": 104,
     "metadata": {},
     "output_type": "execute_result"
    }
   ],
   "source": [
    "# Normalizing the nested json\n",
    "\n",
    "meetings = pd.DataFrame()\n",
    "for i in dates.columns:\n",
    "#     print(i)\n",
    "    norm = pd.json_normalize(dates[i], record_path = ['meetings'], meta = [\"displayName\", \"displayOrder\", \"raceType\"])\n",
    "    meetings = meetings.append(norm, ignore_index = True)\n",
    "\n",
    "meetings.head()\n",
    "\n",
    "\n"
   ]
  },
  {
   "cell_type": "code",
   "execution_count": 110,
   "metadata": {},
   "outputs": [],
   "source": [
    "# Converting events to series\n",
    "\n",
    "events = pd.concat([meetings['events'].apply(pd.Series)],axis = 1)"
   ]
  },
  {
   "cell_type": "code",
   "execution_count": 114,
   "metadata": {},
   "outputs": [
    {
     "ename": "AttributeError",
     "evalue": "'int' object has no attribute 'items'",
     "output_type": "error",
     "traceback": [
      "\u001b[1;31m---------------------------------------------------------------------------\u001b[0m",
      "\u001b[1;31mAttributeError\u001b[0m                            Traceback (most recent call last)",
      "\u001b[1;32m<ipython-input-114-3f8284dd4b09>\u001b[0m in \u001b[0;36m<module>\u001b[1;34m\u001b[0m\n\u001b[0;32m      4\u001b[0m \u001b[1;32mfor\u001b[0m \u001b[0mi\u001b[0m \u001b[1;32min\u001b[0m \u001b[0mevents\u001b[0m\u001b[1;33m.\u001b[0m\u001b[0mcolumns\u001b[0m\u001b[1;33m:\u001b[0m\u001b[1;33m\u001b[0m\u001b[1;33m\u001b[0m\u001b[0m\n\u001b[0;32m      5\u001b[0m \u001b[1;31m#     print(i)\u001b[0m\u001b[1;33m\u001b[0m\u001b[1;33m\u001b[0m\u001b[1;33m\u001b[0m\u001b[0m\n\u001b[1;32m----> 6\u001b[1;33m     \u001b[0mnorm\u001b[0m \u001b[1;33m=\u001b[0m \u001b[0mpd\u001b[0m\u001b[1;33m.\u001b[0m\u001b[0mjson_normalize\u001b[0m\u001b[1;33m(\u001b[0m\u001b[0mevents\u001b[0m\u001b[1;33m[\u001b[0m\u001b[0mi\u001b[0m\u001b[1;33m]\u001b[0m\u001b[1;33m.\u001b[0m\u001b[0mreplace\u001b[0m\u001b[1;33m(\u001b[0m\u001b[0mnp\u001b[0m\u001b[1;33m.\u001b[0m\u001b[0mnan\u001b[0m\u001b[1;33m,\u001b[0m \u001b[1;36m0\u001b[0m\u001b[1;33m)\u001b[0m\u001b[1;33m,\u001b[0m \u001b[0mmeta\u001b[0m \u001b[1;33m=\u001b[0m \u001b[1;33m[\u001b[0m\u001b[1;34m\"id\"\u001b[0m\u001b[1;33m,\u001b[0m\u001b[1;34m\"raceNumber\"\u001b[0m\u001b[1;33m,\u001b[0m\u001b[1;34m\"startTime\"\u001b[0m\u001b[1;33m,\u001b[0m\u001b[1;34m\"distance\"\u001b[0m\u001b[1;33m,\u001b[0m\u001b[1;34m\"httpLink\"\u001b[0m\u001b[1;33m]\u001b[0m\u001b[1;33m)\u001b[0m\u001b[1;33m\u001b[0m\u001b[1;33m\u001b[0m\u001b[0m\n\u001b[0m\u001b[0;32m      7\u001b[0m     \u001b[0mevents1\u001b[0m \u001b[1;33m=\u001b[0m \u001b[0mevents1\u001b[0m\u001b[1;33m.\u001b[0m\u001b[0mappend\u001b[0m\u001b[1;33m(\u001b[0m\u001b[0mnorm\u001b[0m\u001b[1;33m,\u001b[0m \u001b[0mignore_index\u001b[0m \u001b[1;33m=\u001b[0m \u001b[1;32mTrue\u001b[0m\u001b[1;33m)\u001b[0m\u001b[1;33m\u001b[0m\u001b[1;33m\u001b[0m\u001b[0m\n\u001b[0;32m      8\u001b[0m \u001b[1;33m\u001b[0m\u001b[0m\n",
      "\u001b[1;32mF:\\Subbu\\Anaconda\\lib\\site-packages\\pandas\\io\\json\\_normalize.py\u001b[0m in \u001b[0;36m_json_normalize\u001b[1;34m(data, record_path, meta, meta_prefix, record_prefix, errors, sep, max_level)\u001b[0m\n\u001b[0;32m    276\u001b[0m             \u001b[1;31m# TODO: handle record value which are lists, at least error\u001b[0m\u001b[1;33m\u001b[0m\u001b[1;33m\u001b[0m\u001b[1;33m\u001b[0m\u001b[0m\n\u001b[0;32m    277\u001b[0m             \u001b[1;31m#       reasonably\u001b[0m\u001b[1;33m\u001b[0m\u001b[1;33m\u001b[0m\u001b[1;33m\u001b[0m\u001b[0m\n\u001b[1;32m--> 278\u001b[1;33m             \u001b[0mdata\u001b[0m \u001b[1;33m=\u001b[0m \u001b[0mnested_to_record\u001b[0m\u001b[1;33m(\u001b[0m\u001b[0mdata\u001b[0m\u001b[1;33m,\u001b[0m \u001b[0msep\u001b[0m\u001b[1;33m=\u001b[0m\u001b[0msep\u001b[0m\u001b[1;33m,\u001b[0m \u001b[0mmax_level\u001b[0m\u001b[1;33m=\u001b[0m\u001b[0mmax_level\u001b[0m\u001b[1;33m)\u001b[0m\u001b[1;33m\u001b[0m\u001b[1;33m\u001b[0m\u001b[0m\n\u001b[0m\u001b[0;32m    279\u001b[0m         \u001b[1;32mreturn\u001b[0m \u001b[0mDataFrame\u001b[0m\u001b[1;33m(\u001b[0m\u001b[0mdata\u001b[0m\u001b[1;33m)\u001b[0m\u001b[1;33m\u001b[0m\u001b[1;33m\u001b[0m\u001b[0m\n\u001b[0;32m    280\u001b[0m     \u001b[1;32melif\u001b[0m \u001b[1;32mnot\u001b[0m \u001b[0misinstance\u001b[0m\u001b[1;33m(\u001b[0m\u001b[0mrecord_path\u001b[0m\u001b[1;33m,\u001b[0m \u001b[0mlist\u001b[0m\u001b[1;33m)\u001b[0m\u001b[1;33m:\u001b[0m\u001b[1;33m\u001b[0m\u001b[1;33m\u001b[0m\u001b[0m\n",
      "\u001b[1;32mF:\\Subbu\\Anaconda\\lib\\site-packages\\pandas\\io\\json\\_normalize.py\u001b[0m in \u001b[0;36mnested_to_record\u001b[1;34m(ds, prefix, sep, level, max_level)\u001b[0m\n\u001b[0;32m     80\u001b[0m     \u001b[1;32mfor\u001b[0m \u001b[0md\u001b[0m \u001b[1;32min\u001b[0m \u001b[0mds\u001b[0m\u001b[1;33m:\u001b[0m\u001b[1;33m\u001b[0m\u001b[1;33m\u001b[0m\u001b[0m\n\u001b[0;32m     81\u001b[0m         \u001b[0mnew_d\u001b[0m \u001b[1;33m=\u001b[0m \u001b[0mcopy\u001b[0m\u001b[1;33m.\u001b[0m\u001b[0mdeepcopy\u001b[0m\u001b[1;33m(\u001b[0m\u001b[0md\u001b[0m\u001b[1;33m)\u001b[0m\u001b[1;33m\u001b[0m\u001b[1;33m\u001b[0m\u001b[0m\n\u001b[1;32m---> 82\u001b[1;33m         \u001b[1;32mfor\u001b[0m \u001b[0mk\u001b[0m\u001b[1;33m,\u001b[0m \u001b[0mv\u001b[0m \u001b[1;32min\u001b[0m \u001b[0md\u001b[0m\u001b[1;33m.\u001b[0m\u001b[0mitems\u001b[0m\u001b[1;33m(\u001b[0m\u001b[1;33m)\u001b[0m\u001b[1;33m:\u001b[0m\u001b[1;33m\u001b[0m\u001b[1;33m\u001b[0m\u001b[0m\n\u001b[0m\u001b[0;32m     83\u001b[0m             \u001b[1;31m# each key gets renamed with prefix\u001b[0m\u001b[1;33m\u001b[0m\u001b[1;33m\u001b[0m\u001b[1;33m\u001b[0m\u001b[0m\n\u001b[0;32m     84\u001b[0m             \u001b[1;32mif\u001b[0m \u001b[1;32mnot\u001b[0m \u001b[0misinstance\u001b[0m\u001b[1;33m(\u001b[0m\u001b[0mk\u001b[0m\u001b[1;33m,\u001b[0m \u001b[0mstr\u001b[0m\u001b[1;33m)\u001b[0m\u001b[1;33m:\u001b[0m\u001b[1;33m\u001b[0m\u001b[1;33m\u001b[0m\u001b[0m\n",
      "\u001b[1;31mAttributeError\u001b[0m: 'int' object has no attribute 'items'"
     ]
    }
   ],
   "source": [
    "# events\n",
    "import numpy as np\n",
    "events1 = pd.DataFrame()\n",
    "for i in events.columns:\n",
    "#     print(i)\n",
    "    norm = pd.json_normalize(events[i].replace(np.nan, 0), meta = [\"id\",\"raceNumber\",\"startTime\",\"distance\",\"httpLink\"])\n",
    "    events1 = events1.append(norm, ignore_index = True)\n",
    "\n",
    "events1.head()"
   ]
  },
  {
   "cell_type": "code",
   "execution_count": null,
   "metadata": {},
   "outputs": [],
   "source": []
  }
 ],
 "metadata": {
  "kernelspec": {
   "display_name": "Python 3",
   "language": "python",
   "name": "python3"
  },
  "language_info": {
   "codemirror_mode": {
    "name": "ipython",
    "version": 3
   },
   "file_extension": ".py",
   "mimetype": "text/x-python",
   "name": "python",
   "nbconvert_exporter": "python",
   "pygments_lexer": "ipython3",
   "version": "3.8.5"
  }
 },
 "nbformat": 4,
 "nbformat_minor": 4
}

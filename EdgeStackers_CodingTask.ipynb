{
 "cells": [
  {
   "cell_type": "code",
   "execution_count": 1,
   "metadata": {},
   "outputs": [
    {
     "name": "stderr",
     "output_type": "stream",
     "text": [
      "<ipython-input-1-cf8e800df672>:32: SettingWithCopyWarning: \n",
      "A value is trying to be set on a copy of a slice from a DataFrame.\n",
      "Try using .loc[row_indexer,col_indexer] = value instead\n",
      "\n",
      "See the caveats in the documentation: https://pandas.pydata.org/pandas-docs/stable/user_guide/indexing.html#returning-a-view-versus-a-copy\n",
      "  final_data['startTime'] = final_data['startTime'].apply(lambda x: convert_timestamp(x))\n"
     ]
    },
    {
     "data": {
      "text/html": [
       "<div>\n",
       "<style scoped>\n",
       "    .dataframe tbody tr th:only-of-type {\n",
       "        vertical-align: middle;\n",
       "    }\n",
       "\n",
       "    .dataframe tbody tr th {\n",
       "        vertical-align: top;\n",
       "    }\n",
       "\n",
       "    .dataframe thead th {\n",
       "        text-align: right;\n",
       "    }\n",
       "</style>\n",
       "<table border=\"1\" class=\"dataframe\">\n",
       "  <thead>\n",
       "    <tr style=\"text-align: right;\">\n",
       "      <th></th>\n",
       "      <th>meeting_name</th>\n",
       "      <th>meeting_id</th>\n",
       "      <th>id</th>\n",
       "      <th>raceNumber</th>\n",
       "      <th>startTime</th>\n",
       "      <th>httpLink</th>\n",
       "      <th>distance</th>\n",
       "    </tr>\n",
       "  </thead>\n",
       "  <tbody>\n",
       "    <tr>\n",
       "      <th>0</th>\n",
       "      <td>Monbetsu</td>\n",
       "      <td>21822</td>\n",
       "      <td>6040123</td>\n",
       "      <td>1</td>\n",
       "      <td>1970-01-20 07:45:45.000</td>\n",
       "      <td>Sportsbook/Racing/Events/6040123/Racecard</td>\n",
       "      <td>1300</td>\n",
       "    </tr>\n",
       "    <tr>\n",
       "      <th>1</th>\n",
       "      <td>Monbetsu</td>\n",
       "      <td>21822</td>\n",
       "      <td>6040124</td>\n",
       "      <td>2</td>\n",
       "      <td>1970-01-20 07:45:46.800</td>\n",
       "      <td>Sportsbook/Racing/Events/6040124/Racecard</td>\n",
       "      <td>1300</td>\n",
       "    </tr>\n",
       "    <tr>\n",
       "      <th>2</th>\n",
       "      <td>Monbetsu</td>\n",
       "      <td>21822</td>\n",
       "      <td>6040125</td>\n",
       "      <td>3</td>\n",
       "      <td>1970-01-20 07:45:48.600</td>\n",
       "      <td>Sportsbook/Racing/Events/6040125/Racecard</td>\n",
       "      <td>1300</td>\n",
       "    </tr>\n",
       "    <tr>\n",
       "      <th>3</th>\n",
       "      <td>Monbetsu</td>\n",
       "      <td>21822</td>\n",
       "      <td>6040126</td>\n",
       "      <td>4</td>\n",
       "      <td>1970-01-20 07:45:50.400</td>\n",
       "      <td>Sportsbook/Racing/Events/6040126/Racecard</td>\n",
       "      <td>1100</td>\n",
       "    </tr>\n",
       "    <tr>\n",
       "      <th>4</th>\n",
       "      <td>Monbetsu</td>\n",
       "      <td>21822</td>\n",
       "      <td>6040127</td>\n",
       "      <td>5</td>\n",
       "      <td>1970-01-20 07:45:52.200</td>\n",
       "      <td>Sportsbook/Racing/Events/6040127/Racecard</td>\n",
       "      <td>2100</td>\n",
       "    </tr>\n",
       "  </tbody>\n",
       "</table>\n",
       "</div>"
      ],
      "text/plain": [
       "  meeting_name  meeting_id       id  raceNumber               startTime  \\\n",
       "0     Monbetsu       21822  6040123           1 1970-01-20 07:45:45.000   \n",
       "1     Monbetsu       21822  6040124           2 1970-01-20 07:45:46.800   \n",
       "2     Monbetsu       21822  6040125           3 1970-01-20 07:45:48.600   \n",
       "3     Monbetsu       21822  6040126           4 1970-01-20 07:45:50.400   \n",
       "4     Monbetsu       21822  6040127           5 1970-01-20 07:45:52.200   \n",
       "\n",
       "                                    httpLink distance  \n",
       "0  Sportsbook/Racing/Events/6040123/Racecard     1300  \n",
       "1  Sportsbook/Racing/Events/6040124/Racecard     1300  \n",
       "2  Sportsbook/Racing/Events/6040125/Racecard     1300  \n",
       "3  Sportsbook/Racing/Events/6040126/Racecard     1100  \n",
       "4  Sportsbook/Racing/Events/6040127/Racecard     2100  "
      ]
     },
     "metadata": {},
     "output_type": "display_data"
    }
   ],
   "source": [
    "import json\n",
    "import pandas as pd\n",
    "from pandas.io.json import json_normalize\n",
    "import datetime\n",
    "from IPython.display import display\n",
    "\n",
    "def extract_meetings(data):\n",
    "    dates = data['dates'][0]\n",
    "    sections = dates['sections'][0]\n",
    "    meetings = sections['meetings']\n",
    "    names = []\n",
    "    id = []\n",
    "    events = []\n",
    "    for i in range(0, len(meetings)):\n",
    "        names.append(meetings[i]['name'])\n",
    "        id.append(meetings[i]['id'])\n",
    "        events.append(meetings[i]['events'])\n",
    "\n",
    "    return names, id, events\n",
    "\n",
    "def extract_events(events, names, id):\n",
    "    data = pd.DataFrame()\n",
    "    for i in range(0, len(events)):\n",
    "        data = data.append(pd.json_normalize(events[i]), ignore_index=True)\n",
    "        data['meeting_name'] = names[i]\n",
    "        data['meeting_id'] = id[i]\n",
    "    return data\n",
    "\n",
    "def clean_dataframe(data):\n",
    "    columns=['meeting_name','meeting_id','id', 'raceNumber', 'startTime', 'httpLink', 'distance']\n",
    "    final_data = data[columns]\n",
    "    final_data['startTime'] = final_data['startTime'].apply(lambda x: convert_timestamp(x))\n",
    "    return final_data\n",
    "\n",
    "def convert_timestamp(x):\n",
    "    time = datetime.datetime.fromtimestamp(x/1e3)\n",
    "    return time\n",
    "\n",
    "def load_data():\n",
    "    f = open('response.json',)\n",
    "    data = json.load(f)\n",
    "    names, id, events = extract_meetings(data)\n",
    "    data = extract_events(events, names, id)\n",
    "    final_data = clean_dataframe(data)\n",
    "    display(final_data.head())\n",
    "\n",
    "load_data()\n"
   ]
  },
  {
   "cell_type": "code",
   "execution_count": 2,
   "metadata": {},
   "outputs": [],
   "source": [
    "# df = pd.read_json(\"response.json\", encoding='utf-8')\n",
    "# df"
   ]
  },
  {
   "cell_type": "code",
   "execution_count": 3,
   "metadata": {},
   "outputs": [],
   "source": [
    "# dates = df['dates'].apply(pd.Series)\n",
    "# dates"
   ]
  },
  {
   "cell_type": "code",
   "execution_count": 4,
   "metadata": {},
   "outputs": [],
   "source": [
    "# # Converting dict column to series\n",
    "\n",
    "# dates = pd.concat([dates['sections'].apply(pd.Series), dates.drop(['sections','meetingDate'],axis = 1)],axis = 1)\n"
   ]
  },
  {
   "cell_type": "code",
   "execution_count": 5,
   "metadata": {},
   "outputs": [],
   "source": [
    "# dates[0]"
   ]
  },
  {
   "cell_type": "code",
   "execution_count": 6,
   "metadata": {},
   "outputs": [],
   "source": [
    "# # Normalizing the nested json\n",
    "\n",
    "# meetings = pd.DataFrame()\n",
    "# for i in dates.columns:\n",
    "# #     print(i)\n",
    "#     norm = pd.json_normalize(dates[i], record_path = ['meetings'], meta = [\"displayName\", \"displayOrder\", \"raceType\"])\n",
    "#     meetings = meetings.append(norm, ignore_index = True)\n",
    "\n",
    "# meetings.head()\n",
    "\n",
    "\n"
   ]
  },
  {
   "cell_type": "code",
   "execution_count": 7,
   "metadata": {},
   "outputs": [],
   "source": [
    "# # meetings_temp = meetings[['id','name','events']]\n",
    "# # meetings_temp.head()\n",
    "# meetings_temp.iloc[0][['events']]"
   ]
  },
  {
   "cell_type": "code",
   "execution_count": 8,
   "metadata": {},
   "outputs": [],
   "source": [
    "# # Converting events to series\n",
    "\n",
    "# events = pd.concat([meetings['events'].apply(pd.Series)],axis = 1)"
   ]
  },
  {
   "cell_type": "code",
   "execution_count": 9,
   "metadata": {},
   "outputs": [],
   "source": [
    "# # events\n",
    "# import numpy as np\n",
    "# events1 = pd.DataFrame()\n",
    "# for i in events.columns:\n",
    "# #     print(i)\n",
    "#     norm = pd.json_normalize(events[i].replace(np.nan, 0), meta = [\"id\",\"raceNumber\",\"startTime\",\"distance\",\"httpLink\"])\n",
    "#     events1 = events1.append(norm, ignore_index = True)\n",
    "\n",
    "# events1.head()"
   ]
  },
  {
   "cell_type": "code",
   "execution_count": null,
   "metadata": {},
   "outputs": [],
   "source": []
  }
 ],
 "metadata": {
  "kernelspec": {
   "display_name": "Python 3",
   "language": "python",
   "name": "python3"
  },
  "language_info": {
   "codemirror_mode": {
    "name": "ipython",
    "version": 3
   },
   "file_extension": ".py",
   "mimetype": "text/x-python",
   "name": "python",
   "nbconvert_exporter": "python",
   "pygments_lexer": "ipython3",
   "version": "3.8.5"
  }
 },
 "nbformat": 4,
 "nbformat_minor": 4
}
